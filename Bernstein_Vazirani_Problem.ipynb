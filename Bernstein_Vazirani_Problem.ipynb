{
  "nbformat": 4,
  "nbformat_minor": 0,
  "metadata": {
    "colab": {
      "name": "Bernstein-Vazirani Problem.ipynb",
      "version": "0.3.2",
      "provenance": [],
      "collapsed_sections": []
    },
    "kernelspec": {
      "name": "python3",
      "display_name": "Python 3"
    }
  },
  "cells": [
    {
      "cell_type": "code",
      "metadata": {
        "id": "-i5Un_snY4MW",
        "colab_type": "code",
        "outputId": "5db8ce88-f396-4260-b4b2-a38234f365dc",
        "colab": {
          "base_uri": "https://localhost:8080/",
          "height": 374
        }
      },
      "source": [
        "!pip install -qq qiskit"
      ],
      "execution_count": 0,
      "outputs": [
        {
          "output_type": "stream",
          "text": [
            "\u001b[K     |████████████████████████████████| 1.6MB 4.8MB/s \n",
            "\u001b[K     |████████████████████████████████| 21.6MB 1.6MB/s \n",
            "\u001b[K     |████████████████████████████████| 92kB 22.5MB/s \n",
            "\u001b[K     |████████████████████████████████| 102kB 29.9MB/s \n",
            "\u001b[K     |████████████████████████████████| 983kB 36.2MB/s \n",
            "\u001b[K     |████████████████████████████████| 51kB 19.3MB/s \n",
            "\u001b[K     |████████████████████████████████| 51kB 21.6MB/s \n",
            "\u001b[K     |████████████████████████████████| 5.3MB 24.5MB/s \n",
            "\u001b[K     |████████████████████████████████| 71kB 22.8MB/s \n",
            "\u001b[K     |████████████████████████████████| 532kB 41.3MB/s \n",
            "\u001b[K     |████████████████████████████████| 21.5MB 28.1MB/s \n",
            "\u001b[K     |████████████████████████████████| 2.3MB 28.0MB/s \n",
            "\u001b[K     |████████████████████████████████| 61kB 24.0MB/s \n",
            "\u001b[K     |████████████████████████████████| 61kB 22.2MB/s \n",
            "\u001b[K     |████████████████████████████████| 102kB 26.4MB/s \n",
            "\u001b[?25h  Building wheel for qiskit (setup.py) ... \u001b[?25l\u001b[?25hdone\n",
            "  Building wheel for docplex (setup.py) ... \u001b[?25l\u001b[?25hdone\n",
            "  Building wheel for dlx (setup.py) ... \u001b[?25l\u001b[?25hdone\n",
            "  Building wheel for inflection (setup.py) ... \u001b[?25l\u001b[?25hdone\n",
            "  Building wheel for docloud (setup.py) ... \u001b[?25l\u001b[?25hdone\n",
            "\u001b[31mERROR: datascience 0.10.6 has requirement folium==0.2.1, but you'll have folium 0.8.3 which is incompatible.\u001b[0m\n"
          ],
          "name": "stdout"
        }
      ]
    },
    {
      "cell_type": "code",
      "metadata": {
        "id": "8qJkwynnZpGU",
        "colab_type": "code",
        "colab": {}
      },
      "source": [
        "from qiskit import *\n",
        "from qiskit.visualization import plot_histogram\n",
        "\n",
        "%matplotlib inline"
      ],
      "execution_count": 0,
      "outputs": []
    },
    {
      "cell_type": "code",
      "metadata": {
        "id": "nKdWeqnfZrni",
        "colab_type": "code",
        "outputId": "27f1d3a7-d798-4df3-e803-6b30f3d15c4f",
        "colab": {
          "base_uri": "https://localhost:8080/",
          "height": 102
        }
      },
      "source": [
        "a = input(\"\"\"Please choose a coefficient (in bits) for the function f(x) = ax that maps to {0,1}.\n",
        "                It is assumed that any input has the same number of bits as a.\n",
        "                The quantum circuit will decide what it is in one query.\n",
        "                \"\"\")\n",
        "num_bits = len(a)\n",
        "\n",
        "qr0 = QuantumRegister(num_bits, \"q0\")\n",
        "qr1 = QuantumRegister(1, \"q1\")\n",
        "cr = ClassicalRegister(num_bits)\n",
        "circuit = QuantumCircuit(qr0, qr1, cr)\n",
        "\n",
        "circuit.x(qr1)\n",
        "circuit.h(qr0)\n",
        "circuit.h(qr1)\n",
        "circuit.barrier()\n",
        "\n",
        "for i in range(num_bits):\n",
        "    bit = int(a[i])\n",
        "    assert(bit == 1 or bit == 0)\n",
        "    if bit == 1:\n",
        "        circuit.cx(qr0[num_bits - i - 1], qr1)\n",
        "\n",
        "circuit.barrier()\n",
        "circuit.h(qr0)\n",
        "circuit.measure(qr0, cr)"
      ],
      "execution_count": 0,
      "outputs": [
        {
          "output_type": "stream",
          "text": [
            "Please choose a coefficient (in bits) for the function f(x) = ax that maps to {0,1}.\n",
            "                It is assumed that any input has the same number of bits as a.\n",
            "                The quantum circuit will decide what it is in one query.\n",
            "                101011\n"
          ],
          "name": "stdout"
        },
        {
          "output_type": "execute_result",
          "data": {
            "text/plain": [
              "<qiskit.circuit.instructionset.InstructionSet at 0x7f1154a0f0b8>"
            ]
          },
          "metadata": {
            "tags": []
          },
          "execution_count": 41
        }
      ]
    },
    {
      "cell_type": "code",
      "metadata": {
        "id": "3J_Xwl1s-t-q",
        "colab_type": "code",
        "outputId": "0dadab06-0563-40fb-bee3-2c6e5a30113d",
        "colab": {
          "base_uri": "https://localhost:8080/",
          "height": 413
        }
      },
      "source": [
        "circuit.draw(output='mpl')"
      ],
      "execution_count": 0,
      "outputs": [
        {
          "output_type": "execute_result",
          "data": {
            "image/png": "[encoded data removed]",
            "text/plain": [
              "<Figure size 1070.36x505.68 with 1 Axes>"
            ]
          },
          "metadata": {
            "tags": []
          },
          "execution_count": 42
        }
      ]
    },
    {
      "cell_type": "code",
      "metadata": {
        "id": "cqBAzGIT-_PM",
        "colab_type": "code",
        "colab": {}
      },
      "source": [
        "simulator = Aer.get_backend('qasm_simulator')\n",
        "shots = 100\n",
        "job = execute(circuit, simulator, shots=shots)\n",
        "result = job.result()\n",
        "counts = result.get_counts(circuit)"
      ],
      "execution_count": 0,
      "outputs": []
    },
    {
      "cell_type": "code",
      "metadata": {
        "id": "PmAIlVAXB1Ah",
        "colab_type": "code",
        "outputId": "09520bbf-8ef3-424c-f9e9-65b30e492459",
        "colab": {
          "base_uri": "https://localhost:8080/",
          "height": 368
        }
      },
      "source": [
        "plot_histogram(counts)"
      ],
      "execution_count": 0,
      "outputs": [
        {
          "output_type": "execute_result",
          "data": {
            "image/png": "[encoded data removed]",
            "text/plain": [
              "<Figure size 504x360 with 1 Axes>"
            ]
          },
          "metadata": {
            "tags": []
          },
          "execution_count": 44
        }
      ]
    },
    {
      "cell_type": "code",
      "metadata": {
        "id": "iFadrMjICfLI",
        "colab_type": "code",
        "outputId": "31f02b2d-ff9e-4975-a630-3eb1fddad0cf",
        "colab": {
          "base_uri": "https://localhost:8080/",
          "height": 34
        }
      },
      "source": [
        "max_counts_bits = \"\"\n",
        "max_counts = 0\n",
        "for bits, c in counts.items():\n",
        "    if c > max_counts:\n",
        "        max_counts = counts\n",
        "        max_counts_bits = bits\n",
        "        \n",
        "print(\"Your chosen coefficient was \" + max_counts_bits)"
      ],
      "execution_count": 0,
      "outputs": [
        {
          "output_type": "stream",
          "text": [
            "Your chosen coefficient was 101011\n"
          ],
          "name": "stdout"
        }
      ]
    },
    {
      "cell_type": "code",
      "metadata": {
        "id": "NjdbAn70H9Nt",
        "colab_type": "code",
        "colab": {}
      },
      "source": [
        ""
      ],
      "execution_count": 0,
      "outputs": []
    }
  ]
}