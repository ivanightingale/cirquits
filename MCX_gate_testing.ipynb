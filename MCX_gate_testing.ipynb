{
  "nbformat": 4,
  "nbformat_minor": 0,
  "metadata": {
    "colab": {
      "name": "MCX gate testing.ipynb",
      "provenance": [],
      "collapsed_sections": [],
      "authorship_tag": "ABX9TyOM0C3L+ew/QuzYlUvXa98x",
      "include_colab_link": true
    },
    "kernelspec": {
      "name": "python3",
      "display_name": "Python 3"
    }
  },
  "cells": [
    {
      "cell_type": "markdown",
      "metadata": {
        "id": "view-in-github",
        "colab_type": "text"
      },
      "source": [
        "<a href=\"https://colab.research.google.com/github/ivanightingale/cirquits/blob/master/MCX_gate_testing.ipynb\" target=\"_parent\"><img src=\"https://colab.research.google.com/assets/colab-badge.svg\" alt=\"Open In Colab\"/></a>"
      ]
    },
    {
      "cell_type": "code",
      "metadata": {
        "id": "hVP54saslJpg",
        "colab_type": "code",
        "colab": {
          "base_uri": "https://localhost:8080/",
          "height": 51
        },
        "outputId": "60406754-43c0-43c2-ac25-e6ee4a8c763d"
      },
      "source": [
        "!pip install -qq qiskit\n",
        "!pip install -qq pylatexenc"
      ],
      "execution_count": null,
      "outputs": [
        {
          "output_type": "stream",
          "text": [
            "\u001b[?25l\r\u001b[K     |██                              | 10kB 18.9MB/s eta 0:00:01\r\u001b[K     |████▏                           | 20kB 2.1MB/s eta 0:00:01\r\u001b[K     |██████▎                         | 30kB 2.7MB/s eta 0:00:01\r\u001b[K     |████████▎                       | 40kB 2.9MB/s eta 0:00:01\r\u001b[K     |██████████▍                     | 51kB 2.4MB/s eta 0:00:01\r\u001b[K     |████████████▌                   | 61kB 2.7MB/s eta 0:00:01\r\u001b[K     |██████████████▌                 | 71kB 2.9MB/s eta 0:00:01\r\u001b[K     |████████████████▋               | 81kB 3.1MB/s eta 0:00:01\r\u001b[K     |██████████████████▊             | 92kB 3.4MB/s eta 0:00:01\r\u001b[K     |████████████████████▊           | 102kB 3.3MB/s eta 0:00:01\r\u001b[K     |██████████████████████▉         | 112kB 3.3MB/s eta 0:00:01\r\u001b[K     |█████████████████████████       | 122kB 3.3MB/s eta 0:00:01\r\u001b[K     |███████████████████████████     | 133kB 3.3MB/s eta 0:00:01\r\u001b[K     |█████████████████████████████   | 143kB 3.3MB/s eta 0:00:01\r\u001b[K     |███████████████████████████████▏| 153kB 3.3MB/s eta 0:00:01\r\u001b[K     |████████████████████████████████| 163kB 3.3MB/s \n",
            "\u001b[?25h  Building wheel for pylatexenc (setup.py) ... \u001b[?25l\u001b[?25hdone\n"
          ],
          "name": "stdout"
        }
      ]
    },
    {
      "cell_type": "code",
      "metadata": {
        "id": "TCtE_1y8lM0k",
        "colab_type": "code",
        "colab": {}
      },
      "source": [
        "import numpy as np\n",
        "from qiskit import *\n",
        "from qiskit.visualization import plot_histogram"
      ],
      "execution_count": null,
      "outputs": []
    },
    {
      "cell_type": "code",
      "metadata": {
        "id": "2fl27bAAlUlq",
        "colab_type": "code",
        "colab": {
          "base_uri": "https://localhost:8080/",
          "height": 152
        },
        "outputId": "5f5c2f70-5ae6-4691-bf54-5aeafd53da37"
      },
      "source": [
        "qr = QuantumRegister(3)\n",
        "cr = ClassicalRegister(3)\n",
        "regs = (qr, cr)\n",
        "circuit = QuantumCircuit(*regs)\n",
        "circuit.ccx(qr[0], qr[1], qr[2])\n",
        "circuit.barrier(qr)\n",
        "circuit.measure(qr, cr)\n",
        "circuit.draw()"
      ],
      "execution_count": null,
      "outputs": [
        {
          "output_type": "execute_result",
          "data": {
            "text/html": [
              "<pre style=\"word-wrap: normal;white-space: pre;background: #fff0;line-height: 1.1;font-family: &quot;Courier New&quot;,Courier,monospace\">            ░ ┌─┐      \n",
              "q6_0: ──■───░─┤M├──────\n",
              "        │   ░ └╥┘┌─┐   \n",
              "q6_1: ──■───░──╫─┤M├───\n",
              "      ┌─┴─┐ ░  ║ └╥┘┌─┐\n",
              "q6_2: ┤ X ├─░──╫──╫─┤M├\n",
              "      └───┘ ░  ║  ║ └╥┘\n",
              "c6: 3/═════════╩══╩══╩═\n",
              "               0  1  2 </pre>"
            ],
            "text/plain": [
              "            ░ ┌─┐      \n",
              "q6_0: ──■───░─┤M├──────\n",
              "        │   ░ └╥┘┌─┐   \n",
              "q6_1: ──■───░──╫─┤M├───\n",
              "      ┌─┴─┐ ░  ║ └╥┘┌─┐\n",
              "q6_2: ┤ X ├─░──╫──╫─┤M├\n",
              "      └───┘ ░  ║  ║ └╥┘\n",
              "c6: 3/═════════╩══╩══╩═\n",
              "               0  1  2 "
            ]
          },
          "metadata": {
            "tags": []
          },
          "execution_count": 14
        }
      ]
    },
    {
      "cell_type": "code",
      "metadata": {
        "id": "ZkS5jV8tmaQc",
        "colab_type": "code",
        "colab": {
          "base_uri": "https://localhost:8080/",
          "height": 152
        },
        "outputId": "395a83fa-109a-4da0-a620-64d01220d96c"
      },
      "source": [
        "# (I^X^X).CCX(0,1,2).(I^X^X) -> |100>\n",
        "circuit = QuantumCircuit(*regs)\n",
        "circuit.x(qr[0])\n",
        "circuit.barrier(qr)\n",
        "circuit.x(qr[1])\n",
        "circuit.barrier(qr)\n",
        "circuit.ccx(qr[0], qr[1], qr[2])\n",
        "circuit.barrier(qr)\n",
        "circuit.x(qr[0])\n",
        "circuit.barrier(qr)\n",
        "circuit.x(qr[1])\n",
        "circuit.barrier(qr)\n",
        "circuit.measure(qr, cr)\n",
        "circuit.draw()"
      ],
      "execution_count": null,
      "outputs": [
        {
          "output_type": "execute_result",
          "data": {
            "text/html": [
              "<pre style=\"word-wrap: normal;white-space: pre;background: #fff0;line-height: 1.1;font-family: &quot;Courier New&quot;,Courier,monospace\">      ┌───┐ ░       ░       ░ ┌───┐ ░       ░ ┌─┐      \n",
              "q6_0: ┤ X ├─░───────░───■───░─┤ X ├─░───────░─┤M├──────\n",
              "      └───┘ ░ ┌───┐ ░   │   ░ └───┘ ░ ┌───┐ ░ └╥┘┌─┐   \n",
              "q6_1: ──────░─┤ X ├─░───■───░───────░─┤ X ├─░──╫─┤M├───\n",
              "            ░ └───┘ ░ ┌─┴─┐ ░       ░ └───┘ ░  ║ └╥┘┌─┐\n",
              "q6_2: ──────░───────░─┤ X ├─░───────░───────░──╫──╫─┤M├\n",
              "            ░       ░ └───┘ ░       ░       ░  ║  ║ └╥┘\n",
              "c6: 3/═════════════════════════════════════════╩══╩══╩═\n",
              "                                               0  1  2 </pre>"
            ],
            "text/plain": [
              "      ┌───┐ ░       ░       ░ ┌───┐ ░       ░ ┌─┐      \n",
              "q6_0: ┤ X ├─░───────░───■───░─┤ X ├─░───────░─┤M├──────\n",
              "      └───┘ ░ ┌───┐ ░   │   ░ └───┘ ░ ┌───┐ ░ └╥┘┌─┐   \n",
              "q6_1: ──────░─┤ X ├─░───■───░───────░─┤ X ├─░──╫─┤M├───\n",
              "            ░ └───┘ ░ ┌─┴─┐ ░       ░ └───┘ ░  ║ └╥┘┌─┐\n",
              "q6_2: ──────░───────░─┤ X ├─░───────░───────░──╫──╫─┤M├\n",
              "            ░       ░ └───┘ ░       ░       ░  ║  ║ └╥┘\n",
              "c6: 3/═════════════════════════════════════════╩══╩══╩═\n",
              "                                               0  1  2 "
            ]
          },
          "metadata": {
            "tags": []
          },
          "execution_count": 15
        }
      ]
    },
    {
      "cell_type": "code",
      "metadata": {
        "id": "3IGJI1Dwm9Yj",
        "colab_type": "code",
        "colab": {
          "base_uri": "https://localhost:8080/",
          "height": 152
        },
        "outputId": "7ed35851-e1e6-4f29-d653-b1e9ff18073f"
      },
      "source": [
        "# (X^I^X).CCX(0,1,2).(X^I^X) -> |000>\n",
        "circuit = QuantumCircuit(*regs)\n",
        "circuit.x(qr[0])\n",
        "circuit.barrier(qr)\n",
        "circuit.x(qr[2])\n",
        "circuit.barrier(qr)\n",
        "circuit.ccx(qr[0], qr[1], qr[2])\n",
        "circuit.barrier(qr)\n",
        "circuit.x(qr[0])\n",
        "circuit.barrier(qr)\n",
        "circuit.x(qr[2])\n",
        "circuit.barrier(qr)\n",
        "circuit.measure(qr, cr)\n",
        "circuit.draw()"
      ],
      "execution_count": null,
      "outputs": [
        {
          "output_type": "execute_result",
          "data": {
            "text/html": [
              "<pre style=\"word-wrap: normal;white-space: pre;background: #fff0;line-height: 1.1;font-family: &quot;Courier New&quot;,Courier,monospace\">      ┌───┐ ░       ░       ░ ┌───┐ ░       ░ ┌─┐      \n",
              "q6_0: ┤ X ├─░───────░───■───░─┤ X ├─░───────░─┤M├──────\n",
              "      └───┘ ░       ░   │   ░ └───┘ ░       ░ └╥┘┌─┐   \n",
              "q6_1: ──────░───────░───■───░───────░───────░──╫─┤M├───\n",
              "            ░ ┌───┐ ░ ┌─┴─┐ ░       ░ ┌───┐ ░  ║ └╥┘┌─┐\n",
              "q6_2: ──────░─┤ X ├─░─┤ X ├─░───────░─┤ X ├─░──╫──╫─┤M├\n",
              "            ░ └───┘ ░ └───┘ ░       ░ └───┘ ░  ║  ║ └╥┘\n",
              "c6: 3/═════════════════════════════════════════╩══╩══╩═\n",
              "                                               0  1  2 </pre>"
            ],
            "text/plain": [
              "      ┌───┐ ░       ░       ░ ┌───┐ ░       ░ ┌─┐      \n",
              "q6_0: ┤ X ├─░───────░───■───░─┤ X ├─░───────░─┤M├──────\n",
              "      └───┘ ░       ░   │   ░ └───┘ ░       ░ └╥┘┌─┐   \n",
              "q6_1: ──────░───────░───■───░───────░───────░──╫─┤M├───\n",
              "            ░ ┌───┐ ░ ┌─┴─┐ ░       ░ ┌───┐ ░  ║ └╥┘┌─┐\n",
              "q6_2: ──────░─┤ X ├─░─┤ X ├─░───────░─┤ X ├─░──╫──╫─┤M├\n",
              "            ░ └───┘ ░ └───┘ ░       ░ └───┘ ░  ║  ║ └╥┘\n",
              "c6: 3/═════════════════════════════════════════╩══╩══╩═\n",
              "                                               0  1  2 "
            ]
          },
          "metadata": {
            "tags": []
          },
          "execution_count": 16
        }
      ]
    },
    {
      "cell_type": "code",
      "metadata": {
        "id": "990XlRvGnBhE",
        "colab_type": "code",
        "colab": {
          "base_uri": "https://localhost:8080/",
          "height": 152
        },
        "outputId": "ad4b3e13-a49a-4dd3-daa5-ebd248aeac2b"
      },
      "source": [
        "# (X^X^I).CCX(0,1,2).(X^X^I) -> |000>\n",
        "circuit = QuantumCircuit(*regs)\n",
        "circuit.x(qr[1])\n",
        "circuit.barrier(qr)\n",
        "circuit.x(qr[2])\n",
        "circuit.barrier(qr)\n",
        "circuit.ccx(qr[0], qr[1], qr[2])\n",
        "circuit.barrier(qr)\n",
        "circuit.x(qr[1])\n",
        "circuit.barrier(qr)\n",
        "circuit.x(qr[2])\n",
        "circuit.barrier(qr)\n",
        "circuit.measure(qr, cr)\n",
        "circuit.draw()"
      ],
      "execution_count": null,
      "outputs": [
        {
          "output_type": "execute_result",
          "data": {
            "text/html": [
              "<pre style=\"word-wrap: normal;white-space: pre;background: #fff0;line-height: 1.1;font-family: &quot;Courier New&quot;,Courier,monospace\">            ░       ░       ░       ░       ░ ┌─┐      \n",
              "q6_0: ──────░───────░───■───░───────░───────░─┤M├──────\n",
              "      ┌───┐ ░       ░   │   ░ ┌───┐ ░       ░ └╥┘┌─┐   \n",
              "q6_1: ┤ X ├─░───────░───■───░─┤ X ├─░───────░──╫─┤M├───\n",
              "      └───┘ ░ ┌───┐ ░ ┌─┴─┐ ░ └───┘ ░ ┌───┐ ░  ║ └╥┘┌─┐\n",
              "q6_2: ──────░─┤ X ├─░─┤ X ├─░───────░─┤ X ├─░──╫──╫─┤M├\n",
              "            ░ └───┘ ░ └───┘ ░       ░ └───┘ ░  ║  ║ └╥┘\n",
              "c6: 3/═════════════════════════════════════════╩══╩══╩═\n",
              "                                               0  1  2 </pre>"
            ],
            "text/plain": [
              "            ░       ░       ░       ░       ░ ┌─┐      \n",
              "q6_0: ──────░───────░───■───░───────░───────░─┤M├──────\n",
              "      ┌───┐ ░       ░   │   ░ ┌───┐ ░       ░ └╥┘┌─┐   \n",
              "q6_1: ┤ X ├─░───────░───■───░─┤ X ├─░───────░──╫─┤M├───\n",
              "      └───┘ ░ ┌───┐ ░ ┌─┴─┐ ░ └───┘ ░ ┌───┐ ░  ║ └╥┘┌─┐\n",
              "q6_2: ──────░─┤ X ├─░─┤ X ├─░───────░─┤ X ├─░──╫──╫─┤M├\n",
              "            ░ └───┘ ░ └───┘ ░       ░ └───┘ ░  ║  ║ └╥┘\n",
              "c6: 3/═════════════════════════════════════════╩══╩══╩═\n",
              "                                               0  1  2 "
            ]
          },
          "metadata": {
            "tags": []
          },
          "execution_count": 17
        }
      ]
    },
    {
      "cell_type": "code",
      "metadata": {
        "id": "7465jLmOnHx6",
        "colab_type": "code",
        "colab": {
          "base_uri": "https://localhost:8080/",
          "height": 152
        },
        "outputId": "fe52260b-dde6-4163-effc-9c97e7a287f0"
      },
      "source": [
        "circuit = QuantumCircuit(*regs)\n",
        "circuit.ccx(qr[2], qr[1], qr[0])\n",
        "circuit.barrier(qr)\n",
        "circuit.measure(qr, cr)\n",
        "circuit.draw()"
      ],
      "execution_count": null,
      "outputs": [
        {
          "output_type": "execute_result",
          "data": {
            "text/html": [
              "<pre style=\"word-wrap: normal;white-space: pre;background: #fff0;line-height: 1.1;font-family: &quot;Courier New&quot;,Courier,monospace\">      ┌───┐ ░ ┌─┐      \n",
              "q6_0: ┤ X ├─░─┤M├──────\n",
              "      └─┬─┘ ░ └╥┘┌─┐   \n",
              "q6_1: ──■───░──╫─┤M├───\n",
              "        │   ░  ║ └╥┘┌─┐\n",
              "q6_2: ──■───░──╫──╫─┤M├\n",
              "            ░  ║  ║ └╥┘\n",
              "c6: 3/═════════╩══╩══╩═\n",
              "               0  1  2 </pre>"
            ],
            "text/plain": [
              "      ┌───┐ ░ ┌─┐      \n",
              "q6_0: ┤ X ├─░─┤M├──────\n",
              "      └─┬─┘ ░ └╥┘┌─┐   \n",
              "q6_1: ──■───░──╫─┤M├───\n",
              "        │   ░  ║ └╥┘┌─┐\n",
              "q6_2: ──■───░──╫──╫─┤M├\n",
              "            ░  ║  ║ └╥┘\n",
              "c6: 3/═════════╩══╩══╩═\n",
              "               0  1  2 "
            ]
          },
          "metadata": {
            "tags": []
          },
          "execution_count": 18
        }
      ]
    },
    {
      "cell_type": "code",
      "metadata": {
        "id": "9R0npllWnRAg",
        "colab_type": "code",
        "colab": {
          "base_uri": "https://localhost:8080/",
          "height": 152
        },
        "outputId": "8afff208-27d3-4622-bd38-445882302783"
      },
      "source": [
        "circuit = QuantumCircuit(*regs)\n",
        "circuit.x(qr[0])\n",
        "circuit.barrier(qr)\n",
        "circuit.x(qr[1])\n",
        "circuit.barrier(qr)\n",
        "circuit.ccx(qr[2], qr[1], qr[0])\n",
        "circuit.barrier(qr)\n",
        "circuit.x(qr[0])\n",
        "circuit.barrier(qr)\n",
        "circuit.x(qr[1])\n",
        "circuit.barrier(qr)\n",
        "circuit.measure(qr, cr)\n",
        "circuit.draw()"
      ],
      "execution_count": null,
      "outputs": [
        {
          "output_type": "execute_result",
          "data": {
            "text/html": [
              "<pre style=\"word-wrap: normal;white-space: pre;background: #fff0;line-height: 1.1;font-family: &quot;Courier New&quot;,Courier,monospace\">      ┌───┐ ░       ░ ┌───┐ ░ ┌───┐ ░       ░ ┌─┐      \n",
              "q6_0: ┤ X ├─░───────░─┤ X ├─░─┤ X ├─░───────░─┤M├──────\n",
              "      └───┘ ░ ┌───┐ ░ └─┬─┘ ░ └───┘ ░ ┌───┐ ░ └╥┘┌─┐   \n",
              "q6_1: ──────░─┤ X ├─░───■───░───────░─┤ X ├─░──╫─┤M├───\n",
              "            ░ └───┘ ░   │   ░       ░ └───┘ ░  ║ └╥┘┌─┐\n",
              "q6_2: ──────░───────░───■───░───────░───────░──╫──╫─┤M├\n",
              "            ░       ░       ░       ░       ░  ║  ║ └╥┘\n",
              "c6: 3/═════════════════════════════════════════╩══╩══╩═\n",
              "                                               0  1  2 </pre>"
            ],
            "text/plain": [
              "      ┌───┐ ░       ░ ┌───┐ ░ ┌───┐ ░       ░ ┌─┐      \n",
              "q6_0: ┤ X ├─░───────░─┤ X ├─░─┤ X ├─░───────░─┤M├──────\n",
              "      └───┘ ░ ┌───┐ ░ └─┬─┘ ░ └───┘ ░ ┌───┐ ░ └╥┘┌─┐   \n",
              "q6_1: ──────░─┤ X ├─░───■───░───────░─┤ X ├─░──╫─┤M├───\n",
              "            ░ └───┘ ░   │   ░       ░ └───┘ ░  ║ └╥┘┌─┐\n",
              "q6_2: ──────░───────░───■───░───────░───────░──╫──╫─┤M├\n",
              "            ░       ░       ░       ░       ░  ║  ║ └╥┘\n",
              "c6: 3/═════════════════════════════════════════╩══╩══╩═\n",
              "                                               0  1  2 "
            ]
          },
          "metadata": {
            "tags": []
          },
          "execution_count": 19
        }
      ]
    },
    {
      "cell_type": "code",
      "metadata": {
        "id": "qp2jjLaenTkb",
        "colab_type": "code",
        "colab": {
          "base_uri": "https://localhost:8080/",
          "height": 152
        },
        "outputId": "f2c69f0e-466b-4ea3-d7a3-066560e5ed62"
      },
      "source": [
        "circuit = QuantumCircuit(*regs)\n",
        "circuit.x(qr[0])\n",
        "circuit.barrier(qr)\n",
        "circuit.x(qr[2])\n",
        "circuit.barrier(qr)\n",
        "circuit.ccx(qr[2], qr[1], qr[0])\n",
        "circuit.barrier(qr)\n",
        "circuit.x(qr[0])\n",
        "circuit.barrier(qr)\n",
        "circuit.x(qr[2])\n",
        "circuit.barrier(qr)\n",
        "circuit.measure(qr, cr)\n",
        "circuit.draw()"
      ],
      "execution_count": null,
      "outputs": [
        {
          "output_type": "execute_result",
          "data": {
            "text/html": [
              "<pre style=\"word-wrap: normal;white-space: pre;background: #fff0;line-height: 1.1;font-family: &quot;Courier New&quot;,Courier,monospace\">      ┌───┐ ░       ░ ┌───┐ ░ ┌───┐ ░       ░ ┌─┐      \n",
              "q6_0: ┤ X ├─░───────░─┤ X ├─░─┤ X ├─░───────░─┤M├──────\n",
              "      └───┘ ░       ░ └─┬─┘ ░ └───┘ ░       ░ └╥┘┌─┐   \n",
              "q6_1: ──────░───────░───■───░───────░───────░──╫─┤M├───\n",
              "            ░ ┌───┐ ░   │   ░       ░ ┌───┐ ░  ║ └╥┘┌─┐\n",
              "q6_2: ──────░─┤ X ├─░───■───░───────░─┤ X ├─░──╫──╫─┤M├\n",
              "            ░ └───┘ ░       ░       ░ └───┘ ░  ║  ║ └╥┘\n",
              "c6: 3/═════════════════════════════════════════╩══╩══╩═\n",
              "                                               0  1  2 </pre>"
            ],
            "text/plain": [
              "      ┌───┐ ░       ░ ┌───┐ ░ ┌───┐ ░       ░ ┌─┐      \n",
              "q6_0: ┤ X ├─░───────░─┤ X ├─░─┤ X ├─░───────░─┤M├──────\n",
              "      └───┘ ░       ░ └─┬─┘ ░ └───┘ ░       ░ └╥┘┌─┐   \n",
              "q6_1: ──────░───────░───■───░───────░───────░──╫─┤M├───\n",
              "            ░ ┌───┐ ░   │   ░       ░ ┌───┐ ░  ║ └╥┘┌─┐\n",
              "q6_2: ──────░─┤ X ├─░───■───░───────░─┤ X ├─░──╫──╫─┤M├\n",
              "            ░ └───┘ ░       ░       ░ └───┘ ░  ║  ║ └╥┘\n",
              "c6: 3/═════════════════════════════════════════╩══╩══╩═\n",
              "                                               0  1  2 "
            ]
          },
          "metadata": {
            "tags": []
          },
          "execution_count": 20
        }
      ]
    },
    {
      "cell_type": "code",
      "metadata": {
        "id": "bd9-xc1snXco",
        "colab_type": "code",
        "colab": {}
      },
      "source": [
        ""
      ],
      "execution_count": null,
      "outputs": []
    },
    {
      "cell_type": "code",
      "metadata": {
        "id": "rojJcn0Xofs_",
        "colab_type": "code",
        "colab": {
          "base_uri": "https://localhost:8080/",
          "height": 182
        },
        "outputId": "db0cac8e-e406-495a-adf4-15dd89876c65"
      },
      "source": [
        "qr = QuantumRegister(4)\n",
        "cr = ClassicalRegister(4)\n",
        "regs = (qr, cr)\n",
        "\n",
        "# MCX([0,1,2],3)\n",
        "circuit = QuantumCircuit(*regs)\n",
        "circuit.mcx([qr[0], qr[1], qr[2]], qr[3])\n",
        "circuit.barrier(qr)\n",
        "circuit.measure(qr, cr)\n",
        "circuit.draw()"
      ],
      "execution_count": null,
      "outputs": [
        {
          "output_type": "execute_result",
          "data": {
            "text/html": [
              "<pre style=\"word-wrap: normal;white-space: pre;background: #fff0;line-height: 1.1;font-family: &quot;Courier New&quot;,Courier,monospace\">            ░ ┌─┐         \n",
              "q7_0: ──■───░─┤M├─────────\n",
              "        │   ░ └╥┘┌─┐      \n",
              "q7_1: ──■───░──╫─┤M├──────\n",
              "        │   ░  ║ └╥┘┌─┐   \n",
              "q7_2: ──■───░──╫──╫─┤M├───\n",
              "      ┌─┴─┐ ░  ║  ║ └╥┘┌─┐\n",
              "q7_3: ┤ X ├─░──╫──╫──╫─┤M├\n",
              "      └───┘ ░  ║  ║  ║ └╥┘\n",
              "c7: 4/═════════╩══╩══╩══╩═\n",
              "               0  1  2  3 </pre>"
            ],
            "text/plain": [
              "            ░ ┌─┐         \n",
              "q7_0: ──■───░─┤M├─────────\n",
              "        │   ░ └╥┘┌─┐      \n",
              "q7_1: ──■───░──╫─┤M├──────\n",
              "        │   ░  ║ └╥┘┌─┐   \n",
              "q7_2: ──■───░──╫──╫─┤M├───\n",
              "      ┌─┴─┐ ░  ║  ║ └╥┘┌─┐\n",
              "q7_3: ┤ X ├─░──╫──╫──╫─┤M├\n",
              "      └───┘ ░  ║  ║  ║ └╥┘\n",
              "c7: 4/═════════╩══╩══╩══╩═\n",
              "               0  1  2  3 "
            ]
          },
          "metadata": {
            "tags": []
          },
          "execution_count": 22
        }
      ]
    },
    {
      "cell_type": "code",
      "metadata": {
        "id": "NBsnwjW9olI1",
        "colab_type": "code",
        "colab": {
          "base_uri": "https://localhost:8080/",
          "height": 182
        },
        "outputId": "8bdcdc28-92c4-422d-c00d-a6b63b47c596"
      },
      "source": [
        "# (I^X^X^X).MCX([0,1,2],3).(I^X^X^X) -> |1000>\n",
        "circuit = QuantumCircuit(*regs)\n",
        "circuit.x(qr[0])\n",
        "circuit.barrier(qr)\n",
        "circuit.x(qr[1])\n",
        "circuit.barrier(qr)\n",
        "circuit.x(qr[2])\n",
        "circuit.barrier(qr)\n",
        "circuit.mcx([qr[0], qr[1], qr[2]], qr[3])\n",
        "circuit.barrier(qr)\n",
        "circuit.x(qr[0])\n",
        "circuit.barrier(qr)\n",
        "circuit.x(qr[1])\n",
        "circuit.barrier(qr)\n",
        "circuit.x(qr[2])\n",
        "circuit.barrier(qr)\n",
        "circuit.measure(qr, cr)\n",
        "circuit.draw()"
      ],
      "execution_count": null,
      "outputs": [
        {
          "output_type": "execute_result",
          "data": {
            "text/html": [
              "<pre style=\"word-wrap: normal;white-space: pre;background: #fff0;line-height: 1.1;font-family: &quot;Courier New&quot;,Courier,monospace\">      ┌───┐ ░       ░       ░       ░ ┌───┐ ░       ░       ░ ┌─┐         \n",
              "q7_0: ┤ X ├─░───────░───────░───■───░─┤ X ├─░───────░───────░─┤M├─────────\n",
              "      └───┘ ░ ┌───┐ ░       ░   │   ░ └───┘ ░ ┌───┐ ░       ░ └╥┘┌─┐      \n",
              "q7_1: ──────░─┤ X ├─░───────░───■───░───────░─┤ X ├─░───────░──╫─┤M├──────\n",
              "            ░ └───┘ ░ ┌───┐ ░   │   ░       ░ └───┘ ░ ┌───┐ ░  ║ └╥┘┌─┐   \n",
              "q7_2: ──────░───────░─┤ X ├─░───■───░───────░───────░─┤ X ├─░──╫──╫─┤M├───\n",
              "            ░       ░ └───┘ ░ ┌─┴─┐ ░       ░       ░ └───┘ ░  ║  ║ └╥┘┌─┐\n",
              "q7_3: ──────░───────░───────░─┤ X ├─░───────░───────░───────░──╫──╫──╫─┤M├\n",
              "            ░       ░       ░ └───┘ ░       ░       ░       ░  ║  ║  ║ └╥┘\n",
              "c7: 4/═════════════════════════════════════════════════════════╩══╩══╩══╩═\n",
              "                                                               0  1  2  3 </pre>"
            ],
            "text/plain": [
              "      ┌───┐ ░       ░       ░       ░ ┌───┐ ░       ░       ░ ┌─┐         \n",
              "q7_0: ┤ X ├─░───────░───────░───■───░─┤ X ├─░───────░───────░─┤M├─────────\n",
              "      └───┘ ░ ┌───┐ ░       ░   │   ░ └───┘ ░ ┌───┐ ░       ░ └╥┘┌─┐      \n",
              "q7_1: ──────░─┤ X ├─░───────░───■───░───────░─┤ X ├─░───────░──╫─┤M├──────\n",
              "            ░ └───┘ ░ ┌───┐ ░   │   ░       ░ └───┘ ░ ┌───┐ ░  ║ └╥┘┌─┐   \n",
              "q7_2: ──────░───────░─┤ X ├─░───■───░───────░───────░─┤ X ├─░──╫──╫─┤M├───\n",
              "            ░       ░ └───┘ ░ ┌─┴─┐ ░       ░       ░ └───┘ ░  ║  ║ └╥┘┌─┐\n",
              "q7_3: ──────░───────░───────░─┤ X ├─░───────░───────░───────░──╫──╫──╫─┤M├\n",
              "            ░       ░       ░ └───┘ ░       ░       ░       ░  ║  ║  ║ └╥┘\n",
              "c7: 4/═════════════════════════════════════════════════════════╩══╩══╩══╩═\n",
              "                                                               0  1  2  3 "
            ]
          },
          "metadata": {
            "tags": []
          },
          "execution_count": 34
        }
      ]
    },
    {
      "cell_type": "code",
      "metadata": {
        "id": "_RCTD8cfp5V-",
        "colab_type": "code",
        "colab": {
          "base_uri": "https://localhost:8080/",
          "height": 182
        },
        "outputId": "250e0d1e-5e58-4e3c-a2b1-242c7e5f9dd0"
      },
      "source": [
        "# (X^I^X^X).MCX([0,1,2],3).(X^I^X^X) -> |0000>\n",
        "circuit = QuantumCircuit(*regs)\n",
        "circuit.x(qr[0])\n",
        "circuit.barrier(qr)\n",
        "circuit.x(qr[1])\n",
        "circuit.barrier(qr)\n",
        "circuit.x(qr[3])\n",
        "circuit.barrier(qr)\n",
        "circuit.mcx([qr[0], qr[1], qr[2]], qr[3])\n",
        "circuit.barrier(qr)\n",
        "circuit.x(qr[0])\n",
        "circuit.barrier(qr)\n",
        "circuit.x(qr[1])\n",
        "circuit.barrier(qr)\n",
        "circuit.x(qr[3])\n",
        "circuit.barrier(qr)\n",
        "circuit.measure(qr, cr)\n",
        "circuit.draw()"
      ],
      "execution_count": null,
      "outputs": [
        {
          "output_type": "execute_result",
          "data": {
            "text/html": [
              "<pre style=\"word-wrap: normal;white-space: pre;background: #fff0;line-height: 1.1;font-family: &quot;Courier New&quot;,Courier,monospace\">      ┌───┐ ░       ░       ░       ░ ┌───┐ ░       ░       ░ ┌─┐         \n",
              "q7_0: ┤ X ├─░───────░───────░───■───░─┤ X ├─░───────░───────░─┤M├─────────\n",
              "      └───┘ ░ ┌───┐ ░       ░   │   ░ └───┘ ░ ┌───┐ ░       ░ └╥┘┌─┐      \n",
              "q7_1: ──────░─┤ X ├─░───────░───■───░───────░─┤ X ├─░───────░──╫─┤M├──────\n",
              "            ░ └───┘ ░       ░   │   ░       ░ └───┘ ░       ░  ║ └╥┘┌─┐   \n",
              "q7_2: ──────░───────░───────░───■───░───────░───────░───────░──╫──╫─┤M├───\n",
              "            ░       ░ ┌───┐ ░ ┌─┴─┐ ░       ░       ░ ┌───┐ ░  ║  ║ └╥┘┌─┐\n",
              "q7_3: ──────░───────░─┤ X ├─░─┤ X ├─░───────░───────░─┤ X ├─░──╫──╫──╫─┤M├\n",
              "            ░       ░ └───┘ ░ └───┘ ░       ░       ░ └───┘ ░  ║  ║  ║ └╥┘\n",
              "c7: 4/═════════════════════════════════════════════════════════╩══╩══╩══╩═\n",
              "                                                               0  1  2  3 </pre>"
            ],
            "text/plain": [
              "      ┌───┐ ░       ░       ░       ░ ┌───┐ ░       ░       ░ ┌─┐         \n",
              "q7_0: ┤ X ├─░───────░───────░───■───░─┤ X ├─░───────░───────░─┤M├─────────\n",
              "      └───┘ ░ ┌───┐ ░       ░   │   ░ └───┘ ░ ┌───┐ ░       ░ └╥┘┌─┐      \n",
              "q7_1: ──────░─┤ X ├─░───────░───■───░───────░─┤ X ├─░───────░──╫─┤M├──────\n",
              "            ░ └───┘ ░       ░   │   ░       ░ └───┘ ░       ░  ║ └╥┘┌─┐   \n",
              "q7_2: ──────░───────░───────░───■───░───────░───────░───────░──╫──╫─┤M├───\n",
              "            ░       ░ ┌───┐ ░ ┌─┴─┐ ░       ░       ░ ┌───┐ ░  ║  ║ └╥┘┌─┐\n",
              "q7_3: ──────░───────░─┤ X ├─░─┤ X ├─░───────░───────░─┤ X ├─░──╫──╫──╫─┤M├\n",
              "            ░       ░ └───┘ ░ └───┘ ░       ░       ░ └───┘ ░  ║  ║  ║ └╥┘\n",
              "c7: 4/═════════════════════════════════════════════════════════╩══╩══╩══╩═\n",
              "                                                               0  1  2  3 "
            ]
          },
          "metadata": {
            "tags": []
          },
          "execution_count": 35
        }
      ]
    },
    {
      "cell_type": "code",
      "metadata": {
        "id": "UHY_PE4rpgwM",
        "colab_type": "code",
        "colab": {
          "base_uri": "https://localhost:8080/",
          "height": 182
        },
        "outputId": "f3eae2a6-9b01-47c5-ee85-f6c26607db9c"
      },
      "source": [
        "# (X^X^I^X).MCX([0,1,2],3).(X^X^I^X) -> |0000>\n",
        "circuit = QuantumCircuit(*regs)\n",
        "circuit.x(qr[0])\n",
        "circuit.barrier(qr)\n",
        "circuit.x(qr[2])\n",
        "circuit.barrier(qr)\n",
        "circuit.x(qr[3])\n",
        "circuit.barrier(qr)\n",
        "circuit.mcx([qr[0], qr[1], qr[2]], qr[3])\n",
        "circuit.barrier(qr)\n",
        "circuit.x(qr[0])\n",
        "circuit.barrier(qr)\n",
        "circuit.x(qr[2])\n",
        "circuit.barrier(qr)\n",
        "circuit.x(qr[3])\n",
        "circuit.barrier(qr)\n",
        "circuit.measure(qr, cr)\n",
        "circuit.draw()"
      ],
      "execution_count": null,
      "outputs": [
        {
          "output_type": "execute_result",
          "data": {
            "text/html": [
              "<pre style=\"word-wrap: normal;white-space: pre;background: #fff0;line-height: 1.1;font-family: &quot;Courier New&quot;,Courier,monospace\">      ┌───┐ ░       ░       ░       ░ ┌───┐ ░       ░       ░ ┌─┐         \n",
              "q7_0: ┤ X ├─░───────░───────░───■───░─┤ X ├─░───────░───────░─┤M├─────────\n",
              "      └───┘ ░       ░       ░   │   ░ └───┘ ░       ░       ░ └╥┘┌─┐      \n",
              "q7_1: ──────░───────░───────░───■───░───────░───────░───────░──╫─┤M├──────\n",
              "            ░ ┌───┐ ░       ░   │   ░       ░ ┌───┐ ░       ░  ║ └╥┘┌─┐   \n",
              "q7_2: ──────░─┤ X ├─░───────░───■───░───────░─┤ X ├─░───────░──╫──╫─┤M├───\n",
              "            ░ └───┘ ░ ┌───┐ ░ ┌─┴─┐ ░       ░ └───┘ ░ ┌───┐ ░  ║  ║ └╥┘┌─┐\n",
              "q7_3: ──────░───────░─┤ X ├─░─┤ X ├─░───────░───────░─┤ X ├─░──╫──╫──╫─┤M├\n",
              "            ░       ░ └───┘ ░ └───┘ ░       ░       ░ └───┘ ░  ║  ║  ║ └╥┘\n",
              "c7: 4/═════════════════════════════════════════════════════════╩══╩══╩══╩═\n",
              "                                                               0  1  2  3 </pre>"
            ],
            "text/plain": [
              "      ┌───┐ ░       ░       ░       ░ ┌───┐ ░       ░       ░ ┌─┐         \n",
              "q7_0: ┤ X ├─░───────░───────░───■───░─┤ X ├─░───────░───────░─┤M├─────────\n",
              "      └───┘ ░       ░       ░   │   ░ └───┘ ░       ░       ░ └╥┘┌─┐      \n",
              "q7_1: ──────░───────░───────░───■───░───────░───────░───────░──╫─┤M├──────\n",
              "            ░ ┌───┐ ░       ░   │   ░       ░ ┌───┐ ░       ░  ║ └╥┘┌─┐   \n",
              "q7_2: ──────░─┤ X ├─░───────░───■───░───────░─┤ X ├─░───────░──╫──╫─┤M├───\n",
              "            ░ └───┘ ░ ┌───┐ ░ ┌─┴─┐ ░       ░ └───┘ ░ ┌───┐ ░  ║  ║ └╥┘┌─┐\n",
              "q7_3: ──────░───────░─┤ X ├─░─┤ X ├─░───────░───────░─┤ X ├─░──╫──╫──╫─┤M├\n",
              "            ░       ░ └───┘ ░ └───┘ ░       ░       ░ └───┘ ░  ║  ║  ║ └╥┘\n",
              "c7: 4/═════════════════════════════════════════════════════════╩══╩══╩══╩═\n",
              "                                                               0  1  2  3 "
            ]
          },
          "metadata": {
            "tags": []
          },
          "execution_count": 36
        }
      ]
    },
    {
      "cell_type": "code",
      "metadata": {
        "id": "mSE9m2dVqIRM",
        "colab_type": "code",
        "colab": {
          "base_uri": "https://localhost:8080/",
          "height": 182
        },
        "outputId": "622f0052-8e85-4fb9-c1e7-f9f63cf73d1d"
      },
      "source": [
        "# (X^X^X^I).MCX([0,1,2],3).(X^X^X^I) -> |0000>\n",
        "circuit = QuantumCircuit(*regs)\n",
        "circuit.x(qr[1])\n",
        "circuit.barrier(qr)\n",
        "circuit.x(qr[2])\n",
        "circuit.barrier(qr)\n",
        "circuit.x(qr[3])\n",
        "circuit.barrier(qr)\n",
        "circuit.mcx([qr[0], qr[1], qr[2]], qr[3])\n",
        "circuit.barrier(qr)\n",
        "circuit.x(qr[1])\n",
        "circuit.barrier(qr)\n",
        "circuit.x(qr[2])\n",
        "circuit.barrier(qr)\n",
        "circuit.x(qr[3])\n",
        "circuit.barrier(qr)\n",
        "circuit.measure(qr, cr)\n",
        "circuit.draw()"
      ],
      "execution_count": null,
      "outputs": [
        {
          "output_type": "execute_result",
          "data": {
            "text/html": [
              "<pre style=\"word-wrap: normal;white-space: pre;background: #fff0;line-height: 1.1;font-family: &quot;Courier New&quot;,Courier,monospace\">            ░       ░       ░       ░       ░       ░       ░ ┌─┐         \n",
              "q7_0: ──────░───────░───────░───■───░───────░───────░───────░─┤M├─────────\n",
              "      ┌───┐ ░       ░       ░   │   ░ ┌───┐ ░       ░       ░ └╥┘┌─┐      \n",
              "q7_1: ┤ X ├─░───────░───────░───■───░─┤ X ├─░───────░───────░──╫─┤M├──────\n",
              "      └───┘ ░ ┌───┐ ░       ░   │   ░ └───┘ ░ ┌───┐ ░       ░  ║ └╥┘┌─┐   \n",
              "q7_2: ──────░─┤ X ├─░───────░───■───░───────░─┤ X ├─░───────░──╫──╫─┤M├───\n",
              "            ░ └───┘ ░ ┌───┐ ░ ┌─┴─┐ ░       ░ └───┘ ░ ┌───┐ ░  ║  ║ └╥┘┌─┐\n",
              "q7_3: ──────░───────░─┤ X ├─░─┤ X ├─░───────░───────░─┤ X ├─░──╫──╫──╫─┤M├\n",
              "            ░       ░ └───┘ ░ └───┘ ░       ░       ░ └───┘ ░  ║  ║  ║ └╥┘\n",
              "c7: 4/═════════════════════════════════════════════════════════╩══╩══╩══╩═\n",
              "                                                               0  1  2  3 </pre>"
            ],
            "text/plain": [
              "            ░       ░       ░       ░       ░       ░       ░ ┌─┐         \n",
              "q7_0: ──────░───────░───────░───■───░───────░───────░───────░─┤M├─────────\n",
              "      ┌───┐ ░       ░       ░   │   ░ ┌───┐ ░       ░       ░ └╥┘┌─┐      \n",
              "q7_1: ┤ X ├─░───────░───────░───■───░─┤ X ├─░───────░───────░──╫─┤M├──────\n",
              "      └───┘ ░ ┌───┐ ░       ░   │   ░ └───┘ ░ ┌───┐ ░       ░  ║ └╥┘┌─┐   \n",
              "q7_2: ──────░─┤ X ├─░───────░───■───░───────░─┤ X ├─░───────░──╫──╫─┤M├───\n",
              "            ░ └───┘ ░ ┌───┐ ░ ┌─┴─┐ ░       ░ └───┘ ░ ┌───┐ ░  ║  ║ └╥┘┌─┐\n",
              "q7_3: ──────░───────░─┤ X ├─░─┤ X ├─░───────░───────░─┤ X ├─░──╫──╫──╫─┤M├\n",
              "            ░       ░ └───┘ ░ └───┘ ░       ░       ░ └───┘ ░  ║  ║  ║ └╥┘\n",
              "c7: 4/═════════════════════════════════════════════════════════╩══╩══╩══╩═\n",
              "                                                               0  1  2  3 "
            ]
          },
          "metadata": {
            "tags": []
          },
          "execution_count": 37
        }
      ]
    },
    {
      "cell_type": "code",
      "metadata": {
        "id": "DNnAz7A2oqhe",
        "colab_type": "code",
        "colab": {
          "base_uri": "https://localhost:8080/",
          "height": 347
        },
        "outputId": "4d754b58-a450-47a4-82b3-291050798e8e"
      },
      "source": [
        "simulator = Aer.get_backend('qasm_simulator')\n",
        "job = execute(circuit, simulator, shots=10)\n",
        "result = job.result()\n",
        "counts = result.get_counts(circuit)\n",
        "plot_histogram(counts)"
      ],
      "execution_count": null,
      "outputs": [
        {
          "output_type": "execute_result",
          "data": {
            "image/png": "[encoded data removed]",
            "text/plain": [
              "<Figure size 504x360 with 1 Axes>"
            ]
          },
          "metadata": {
            "tags": []
          },
          "execution_count": 32
        }
      ]
    },
    {
      "cell_type": "code",
      "metadata": {
        "id": "3LPvbcLmozEt",
        "colab_type": "code",
        "colab": {
          "base_uri": "https://localhost:8080/",
          "height": 182
        },
        "outputId": "23ae205b-9fa7-4f74-aa8e-70d4ea2cbc8d"
      },
      "source": [
        "# (I^X^X^X).MCX([3,2,1],0).(I^X^X^X) -> |0000>\n",
        "circuit = QuantumCircuit(*regs)\n",
        "circuit.x(qr[0])\n",
        "circuit.barrier(qr)\n",
        "circuit.x(qr[1])\n",
        "circuit.barrier(qr)\n",
        "circuit.x(qr[2])\n",
        "circuit.barrier(qr)\n",
        "circuit.mcx([qr[3], qr[2], qr[1]], qr[0])\n",
        "circuit.barrier(qr)\n",
        "circuit.x(qr[0])\n",
        "circuit.barrier(qr)\n",
        "circuit.x(qr[1])\n",
        "circuit.barrier(qr)\n",
        "circuit.x(qr[2])\n",
        "circuit.barrier(qr)\n",
        "circuit.measure(qr, cr)\n",
        "circuit.draw()"
      ],
      "execution_count": null,
      "outputs": [
        {
          "output_type": "execute_result",
          "data": {
            "text/html": [
              "<pre style=\"word-wrap: normal;white-space: pre;background: #fff0;line-height: 1.1;font-family: &quot;Courier New&quot;,Courier,monospace\">      ┌───┐ ░       ░       ░ ┌───┐ ░ ┌───┐ ░       ░       ░ ┌─┐         \n",
              "q7_0: ┤ X ├─░───────░───────░─┤ X ├─░─┤ X ├─░───────░───────░─┤M├─────────\n",
              "      └───┘ ░ ┌───┐ ░       ░ └─┬─┘ ░ └───┘ ░ ┌───┐ ░       ░ └╥┘┌─┐      \n",
              "q7_1: ──────░─┤ X ├─░───────░───■───░───────░─┤ X ├─░───────░──╫─┤M├──────\n",
              "            ░ └───┘ ░ ┌───┐ ░   │   ░       ░ └───┘ ░ ┌───┐ ░  ║ └╥┘┌─┐   \n",
              "q7_2: ──────░───────░─┤ X ├─░───■───░───────░───────░─┤ X ├─░──╫──╫─┤M├───\n",
              "            ░       ░ └───┘ ░   │   ░       ░       ░ └───┘ ░  ║  ║ └╥┘┌─┐\n",
              "q7_3: ──────░───────░───────░───■───░───────░───────░───────░──╫──╫──╫─┤M├\n",
              "            ░       ░       ░       ░       ░       ░       ░  ║  ║  ║ └╥┘\n",
              "c7: 4/═════════════════════════════════════════════════════════╩══╩══╩══╩═\n",
              "                                                               0  1  2  3 </pre>"
            ],
            "text/plain": [
              "      ┌───┐ ░       ░       ░ ┌───┐ ░ ┌───┐ ░       ░       ░ ┌─┐         \n",
              "q7_0: ┤ X ├─░───────░───────░─┤ X ├─░─┤ X ├─░───────░───────░─┤M├─────────\n",
              "      └───┘ ░ ┌───┐ ░       ░ └─┬─┘ ░ └───┘ ░ ┌───┐ ░       ░ └╥┘┌─┐      \n",
              "q7_1: ──────░─┤ X ├─░───────░───■───░───────░─┤ X ├─░───────░──╫─┤M├──────\n",
              "            ░ └───┘ ░ ┌───┐ ░   │   ░       ░ └───┘ ░ ┌───┐ ░  ║ └╥┘┌─┐   \n",
              "q7_2: ──────░───────░─┤ X ├─░───■───░───────░───────░─┤ X ├─░──╫──╫─┤M├───\n",
              "            ░       ░ └───┘ ░   │   ░       ░       ░ └───┘ ░  ║  ║ └╥┘┌─┐\n",
              "q7_3: ──────░───────░───────░───■───░───────░───────░───────░──╫──╫──╫─┤M├\n",
              "            ░       ░       ░       ░       ░       ░       ░  ║  ║  ║ └╥┘\n",
              "c7: 4/═════════════════════════════════════════════════════════╩══╩══╩══╩═\n",
              "                                                               0  1  2  3 "
            ]
          },
          "metadata": {
            "tags": []
          },
          "execution_count": 38
        }
      ]
    },
    {
      "cell_type": "code",
      "metadata": {
        "id": "cRzOmo_Srd5s",
        "colab_type": "code",
        "colab": {
          "base_uri": "https://localhost:8080/",
          "height": 182
        },
        "outputId": "e69b07b0-8345-4d4c-95f8-aac6a4d032c3"
      },
      "source": [
        "# (X^X^X^I).MCX([3,2,1],0).(X^X^X^I) -> |0001>\n",
        "circuit = QuantumCircuit(*regs)\n",
        "circuit.x(qr[1])\n",
        "circuit.barrier(qr)\n",
        "circuit.x(qr[2])\n",
        "circuit.barrier(qr)\n",
        "circuit.x(qr[3])\n",
        "circuit.barrier(qr)\n",
        "circuit.mcx([qr[3], qr[2], qr[1]], qr[0])\n",
        "circuit.barrier(qr)\n",
        "circuit.x(qr[1])\n",
        "circuit.barrier(qr)\n",
        "circuit.x(qr[2])\n",
        "circuit.barrier(qr)\n",
        "circuit.x(qr[3])\n",
        "circuit.barrier(qr)\n",
        "circuit.measure(qr, cr)\n",
        "circuit.draw()"
      ],
      "execution_count": null,
      "outputs": [
        {
          "output_type": "execute_result",
          "data": {
            "text/html": [
              "<pre style=\"word-wrap: normal;white-space: pre;background: #fff0;line-height: 1.1;font-family: &quot;Courier New&quot;,Courier,monospace\">            ░       ░       ░ ┌───┐ ░       ░       ░       ░ ┌─┐         \n",
              "q7_0: ──────░───────░───────░─┤ X ├─░───────░───────░───────░─┤M├─────────\n",
              "      ┌───┐ ░       ░       ░ └─┬─┘ ░ ┌───┐ ░       ░       ░ └╥┘┌─┐      \n",
              "q7_1: ┤ X ├─░───────░───────░───■───░─┤ X ├─░───────░───────░──╫─┤M├──────\n",
              "      └───┘ ░ ┌───┐ ░       ░   │   ░ └───┘ ░ ┌───┐ ░       ░  ║ └╥┘┌─┐   \n",
              "q7_2: ──────░─┤ X ├─░───────░───■───░───────░─┤ X ├─░───────░──╫──╫─┤M├───\n",
              "            ░ └───┘ ░ ┌───┐ ░   │   ░       ░ └───┘ ░ ┌───┐ ░  ║  ║ └╥┘┌─┐\n",
              "q7_3: ──────░───────░─┤ X ├─░───■───░───────░───────░─┤ X ├─░──╫──╫──╫─┤M├\n",
              "            ░       ░ └───┘ ░       ░       ░       ░ └───┘ ░  ║  ║  ║ └╥┘\n",
              "c7: 4/═════════════════════════════════════════════════════════╩══╩══╩══╩═\n",
              "                                                               0  1  2  3 </pre>"
            ],
            "text/plain": [
              "            ░       ░       ░ ┌───┐ ░       ░       ░       ░ ┌─┐         \n",
              "q7_0: ──────░───────░───────░─┤ X ├─░───────░───────░───────░─┤M├─────────\n",
              "      ┌───┐ ░       ░       ░ └─┬─┘ ░ ┌───┐ ░       ░       ░ └╥┘┌─┐      \n",
              "q7_1: ┤ X ├─░───────░───────░───■───░─┤ X ├─░───────░───────░──╫─┤M├──────\n",
              "      └───┘ ░ ┌───┐ ░       ░   │   ░ └───┘ ░ ┌───┐ ░       ░  ║ └╥┘┌─┐   \n",
              "q7_2: ──────░─┤ X ├─░───────░───■───░───────░─┤ X ├─░───────░──╫──╫─┤M├───\n",
              "            ░ └───┘ ░ ┌───┐ ░   │   ░       ░ └───┘ ░ ┌───┐ ░  ║  ║ └╥┘┌─┐\n",
              "q7_3: ──────░───────░─┤ X ├─░───■───░───────░───────░─┤ X ├─░──╫──╫──╫─┤M├\n",
              "            ░       ░ └───┘ ░       ░       ░       ░ └───┘ ░  ║  ║  ║ └╥┘\n",
              "c7: 4/═════════════════════════════════════════════════════════╩══╩══╩══╩═\n",
              "                                                               0  1  2  3 "
            ]
          },
          "metadata": {
            "tags": []
          },
          "execution_count": 40
        }
      ]
    },
    {
      "cell_type": "code",
      "metadata": {
        "id": "hVrvvKysthtK",
        "colab_type": "code",
        "colab": {
          "base_uri": "https://localhost:8080/",
          "height": 347
        },
        "outputId": "d4f6a890-f265-4449-9723-3121402b7618"
      },
      "source": [
        "simulator = Aer.get_backend('qasm_simulator')\n",
        "job = execute(circuit, simulator, shots=10)\n",
        "result = job.result()\n",
        "counts = result.get_counts(circuit)\n",
        "plot_histogram(counts)"
      ],
      "execution_count": null,
      "outputs": [
        {
          "output_type": "execute_result",
          "data": {
            "image/png": "[encoded data removed]",
            "text/plain": [
              "<Figure size 504x360 with 1 Axes>"
            ]
          },
          "metadata": {
            "tags": []
          },
          "execution_count": 41
        }
      ]
    },
    {
      "cell_type": "code",
      "metadata": {
        "id": "po22lGFC0k0o",
        "colab_type": "code",
        "colab": {}
      },
      "source": [
        ""
      ],
      "execution_count": null,
      "outputs": []
    }
  ]
}