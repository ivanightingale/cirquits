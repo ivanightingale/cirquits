{
  "nbformat": 4,
  "nbformat_minor": 0,
  "metadata": {
    "colab": {
      "name": "QFT counting.ipynb",
      "provenance": [],
      "collapsed_sections": [],
      "authorship_tag": "ABX9TyOudyiihgCojKPQYSPKyWid",
      "include_colab_link": true
    },
    "kernelspec": {
      "name": "python3",
      "display_name": "Python 3"
    }
  },
  "cells": [
    {
      "cell_type": "markdown",
      "metadata": {
        "id": "view-in-github",
        "colab_type": "text"
      },
      "source": [
        "<a href=\"https://colab.research.google.com/github/ivanightingale/cirquits/blob/master/QFT_counting.ipynb\" target=\"_parent\"><img src=\"https://colab.research.google.com/assets/colab-badge.svg\" alt=\"Open In Colab\"/></a>"
      ]
    },
    {
      "cell_type": "code",
      "metadata": {
        "id": "Q1D5D0hwD2g9",
        "colab_type": "code",
        "colab": {}
      },
      "source": [
        "import numpy as np\n",
        "pi = np.pi"
      ],
      "execution_count": null,
      "outputs": []
    },
    {
      "cell_type": "code",
      "metadata": {
        "id": "Rpv9xTiGHWSb",
        "colab_type": "code",
        "colab": {
          "base_uri": "https://localhost:8080/",
          "height": 272
        },
        "outputId": "9eb615c8-3144-49fa-a809-12a6889ec00a"
      },
      "source": [
        "# N = 15, a = 13\n",
        "n_qubits = 4\n",
        "max = 2 ** n_qubits\n",
        "\n",
        "for y in range(max - 1):\n",
        "    coeff = 0\n",
        "    for c in [3, 7, 11, 15]:\n",
        "        coeff += np.exp(-1j * c * 2 * pi / max * y)\n",
        "    if abs(coeff) < 1e-10: coeff = 0\n",
        "    print(y, coeff)"
      ],
      "execution_count": null,
      "outputs": [
        {
          "output_type": "stream",
          "text": [
            "0 (4+0j)\n",
            "1 0\n",
            "2 0\n",
            "3 0\n",
            "4 (-5.757077917265737e-15+4j)\n",
            "5 0\n",
            "6 0\n",
            "7 0\n",
            "8 (-4-1.1514155834531474e-14j)\n",
            "9 0\n",
            "10 0\n",
            "11 0\n",
            "12 (2.2600304269997962e-14-4j)\n",
            "13 0\n",
            "14 0\n"
          ],
          "name": "stdout"
        }
      ]
    },
    {
      "cell_type": "code",
      "metadata": {
        "id": "Ite7FdyAIFVO",
        "colab_type": "code",
        "colab": {
          "base_uri": "https://localhost:8080/",
          "height": 561
        },
        "outputId": "920b832f-b574-4f71-bce4-77610c396af9"
      },
      "source": [
        "# N = 21, a = 5\n",
        "n_qubits = 5\n",
        "max = 2 ** n_qubits\n",
        "\n",
        "for y in range(max):\n",
        "    coeff = 0\n",
        "    for c in [3, 9, 15, 21, 27]:\n",
        "        coeff += np.exp(-1j * c * 2 * pi / max * y)\n",
        "    if abs(coeff) < 1e-10: coeff = 0\n",
        "    print(y, coeff)"
      ],
      "execution_count": null,
      "outputs": [
        {
          "output_type": "stream",
          "text": [
            "0 (5+0j)\n",
            "1 (-0.3444059901168137-0.06850661083387055j)\n",
            "2 (-0.38268343236509095-0.15851266778110695j)\n",
            "3 (-0.4709897012990708-0.31470525708803376j)\n",
            "4 (-0.7071067811865469-0.7071067811865475j)\n",
            "5 (-2.3678251257253753-3.5437007281447372j)\n",
            "6 (0.9238795325112834+2.2304424973876666j)\n",
            "7 (0.23012472536749973+1.1569151199546526j)\n",
            "8 (-6.2475556175612666e-15+1j)\n",
            "9 (-0.2301247253674984+1.1569151199546461j)\n",
            "10 (-0.9238795325112866+2.2304424973876604j)\n",
            "11 (2.367825125725389-3.5437007281447364j)\n",
            "12 (0.7071067811865476-0.7071067811865508j)\n",
            "13 (0.4709897012990729-0.3147052570880254j)\n",
            "14 (0.3826834323650743-0.15851266778110895j)\n",
            "15 (0.3444059901168086-0.06850661083387377j)\n",
            "16 (-5-1.273756467240565e-14j)\n",
            "17 (0.3444059901168077+0.06850661083387144j)\n",
            "18 (0.38268343236509317+0.15851266778110507j)\n",
            "19 (0.4709897012990709+0.314705257088042j)\n",
            "20 (0.7071067811865416+0.707106781186551j)\n",
            "21 (2.3678251257253757+3.543700728144737j)\n",
            "22 (-0.9238795325112866-2.2304424973876813j)\n",
            "23 (-0.23012472536750006-1.1569151199546557j)\n",
            "24 (2.407173737088455e-14-1j)\n",
            "25 (0.23012472536750428-1.1569151199546215j)\n",
            "26 (0.9238795325112928-2.2304424973876595j)\n",
            "27 (-2.3678251257254073+3.5437007281447315j)\n",
            "28 (-0.7071067811865575+0.707106781186539j)\n",
            "29 (-0.47098970129907747+0.3147052570880029j)\n",
            "30 (-0.38268343236506636+0.15851266778110074j)\n",
            "31 (-0.34440599011681283+0.06850661083386267j)\n"
          ],
          "name": "stdout"
        }
      ]
    },
    {
      "cell_type": "code",
      "metadata": {
        "id": "ZhO8z12v9dn9",
        "colab_type": "code",
        "colab": {}
      },
      "source": [
        ""
      ],
      "execution_count": null,
      "outputs": []
    }
  ]
}