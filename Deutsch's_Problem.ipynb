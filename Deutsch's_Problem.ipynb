{
  "nbformat": 4,
  "nbformat_minor": 0,
  "metadata": {
    "colab": {
      "name": "Deutsch's Problem.ipynb",
      "version": "0.3.2",
      "provenance": [],
      "collapsed_sections": []
    },
    "kernelspec": {
      "name": "python3",
      "display_name": "Python 3"
    }
  },
  "cells": [
    {
      "cell_type": "code",
      "metadata": {
        "id": "SIsaCGGva-Oi",
        "colab_type": "code",
        "outputId": "e26d0fc3-ddee-412c-f0a5-7700c9edb42d",
        "colab": {
          "base_uri": "https://localhost:8080/",
          "height": 420
        }
      },
      "source": [
        "# !pip install -qq qiskit"
      ],
      "execution_count": 0,
      "outputs": [
        {
          "output_type": "stream",
          "text": [
            "\u001b[K     |████████████████████████████████| 1.5MB 2.9MB/s \n",
            "\u001b[K     |████████████████████████████████| 21.3MB 1.0MB/s \n",
            "\u001b[K     |████████████████████████████████| 92kB 29.2MB/s \n",
            "\u001b[K     |████████████████████████████████| 81kB 27.5MB/s \n",
            "\u001b[K     |████████████████████████████████| 409kB 46.2MB/s \n",
            "\u001b[K     |████████████████████████████████| 522kB 49.0MB/s \n",
            "\u001b[K     |████████████████████████████████| 5.3MB 45.4MB/s \n",
            "\u001b[K     |████████████████████████████████| 51kB 21.6MB/s \n",
            "\u001b[K     |████████████████████████████████| 51kB 22.8MB/s \n",
            "\u001b[K     |████████████████████████████████| 51kB 20.8MB/s \n",
            "\u001b[K     |████████████████████████████████| 71kB 23.2MB/s \n",
            "\u001b[K     |████████████████████████████████| 532kB 47.5MB/s \n",
            "\u001b[K     |████████████████████████████████| 21.5MB 41.8MB/s \n",
            "\u001b[K     |████████████████████████████████| 2.3MB 35.9MB/s \n",
            "\u001b[K     |████████████████████████████████| 61kB 24.4MB/s \n",
            "\u001b[K     |████████████████████████████████| 61kB 22.7MB/s \n",
            "\u001b[K     |████████████████████████████████| 102kB 29.5MB/s \n",
            "\u001b[?25h  Building wheel for qiskit (setup.py) ... \u001b[?25l\u001b[?25hdone\n",
            "  Building wheel for pylatexenc (setup.py) ... \u001b[?25l\u001b[?25hdone\n",
            "  Building wheel for dlx (setup.py) ... \u001b[?25l\u001b[?25hdone\n",
            "  Building wheel for docplex (setup.py) ... \u001b[?25l\u001b[?25hdone\n",
            "  Building wheel for inflection (setup.py) ... \u001b[?25l\u001b[?25hdone\n",
            "  Building wheel for docloud (setup.py) ... \u001b[?25l\u001b[?25hdone\n",
            "\u001b[31mERROR: datascience 0.10.6 has requirement folium==0.2.1, but you'll have folium 0.8.3 which is incompatible.\u001b[0m\n"
          ],
          "name": "stdout"
        }
      ]
    },
    {
      "cell_type": "code",
      "metadata": {
        "id": "tK-B7Ai2cBLo",
        "colab_type": "code",
        "colab": {}
      },
      "source": [
        "from qiskit import *\n",
        "from qiskit.visualization import plot_histogram"
      ],
      "execution_count": 0,
      "outputs": []
    },
    {
      "cell_type": "code",
      "metadata": {
        "id": "HiJJ9LX2UqaQ",
        "colab_type": "code",
        "colab": {}
      },
      "source": [
        "%matplotlib inline"
      ],
      "execution_count": 0,
      "outputs": []
    },
    {
      "cell_type": "code",
      "metadata": {
        "id": "hlWgjxzAdJOc",
        "colab_type": "code",
        "colab": {
          "base_uri": "https://localhost:8080/",
          "height": 134
        },
        "outputId": "b2ee3d3b-65a7-4d92-afb4-3be2a3f0f890"
      },
      "source": [
        "qr = QuantumRegister(2, \"q\")\n",
        "cr = ClassicalRegister(1)\n",
        "\n",
        "circuit = QuantumCircuit(qr, cr)\n",
        "circuit.x(qr[1])\n",
        "circuit.h(qr)\n",
        "\n",
        "option = int(input(\"\"\"Please choose a function mapping from {0,1} to {0,1}. The quantum circuit will decide if it is constant ([1] or [2]) or not ([3] or [4]) in one query.\n",
        "                [1] f(x)=0\n",
        "                [2] f(x)=1\n",
        "                [3] f(x)=x\n",
        "                [4] f(x)=~x\\n\"\"\"))\n",
        "\n",
        "if option == 2:\n",
        "    circuit.x(qr[1])\n",
        "elif option == 3:\n",
        "    circuit.cx(qr[0], qr[1])\n",
        "elif option == 4:\n",
        "    circuit.x(qr[0])\n",
        "    circuit.cx(qr[0], qr[1])\n",
        "    circuit.x(qr[0])\n",
        "    \n",
        "circuit.h(qr[0])\n",
        "circuit.measure(qr[0], cr)"
      ],
      "execution_count": 58,
      "outputs": [
        {
          "output_type": "stream",
          "text": [
            "Please choose a function mapping from {0,1} to {0,1}. The quantum circuit will decide if it is constant ([1] or [2]) or not ([3] or [4]) in one query.\n",
            "                [1] f(x)=0\n",
            "                [2] f(x)=1\n",
            "                [3] f(x)=x\n",
            "                [4] f(x)=~x\n",
            "1\n"
          ],
          "name": "stdout"
        },
        {
          "output_type": "execute_result",
          "data": {
            "text/plain": [
              "<qiskit.circuit.instructionset.InstructionSet at 0x7fe6c486fdd8>"
            ]
          },
          "metadata": {
            "tags": []
          },
          "execution_count": 58
        }
      ]
    },
    {
      "cell_type": "code",
      "metadata": {
        "id": "PztsgXA9O3lK",
        "colab_type": "code",
        "colab": {
          "base_uri": "https://localhost:8080/",
          "height": 181
        },
        "outputId": "07398f66-0a64-420d-b7e6-58138ad88acf"
      },
      "source": [
        "circuit.draw(output=\"mpl\")"
      ],
      "execution_count": 59,
      "outputs": [
        {
          "output_type": "execute_result",
          "data": {
            "image/png": "[encoded data removed]",
            "text/plain": [
              "<Figure size 421.4x198.66 with 1 Axes>"
            ]
          },
          "metadata": {
            "tags": []
          },
          "execution_count": 59
        }
      ]
    },
    {
      "cell_type": "code",
      "metadata": {
        "id": "qH_xhjk4O5hn",
        "colab_type": "code",
        "colab": {}
      },
      "source": [
        "simulator = Aer.get_backend('qasm_simulator')\n",
        "shots = 100\n",
        "job = execute(circuit, simulator, shots=shots)\n",
        "result = job.result()\n",
        "counts = result.get_counts(circuit)"
      ],
      "execution_count": 0,
      "outputs": []
    },
    {
      "cell_type": "code",
      "metadata": {
        "id": "g7gdDuLGXfQn",
        "colab_type": "code",
        "colab": {
          "base_uri": "https://localhost:8080/",
          "height": 326
        },
        "outputId": "100082d7-050d-4343-93b4-ba272069ef1a"
      },
      "source": [
        "plot_histogram(counts)"
      ],
      "execution_count": 61,
      "outputs": [
        {
          "output_type": "execute_result",
          "data": {
            "image/png": "[encoded data removed]",
            "text/plain": [
              "<Figure size 504x360 with 1 Axes>"
            ]
          },
          "metadata": {
            "tags": []
          },
          "execution_count": 61
        }
      ]
    },
    {
      "cell_type": "code",
      "metadata": {
        "id": "9ZiyTtFFXu1Y",
        "colab_type": "code",
        "colab": {
          "base_uri": "https://localhost:8080/",
          "height": 34
        },
        "outputId": "a92bbe22-6ae2-4b3e-c47b-041177a05baa"
      },
      "source": [
        "if(counts.get('0') is not None and counts.get('0') > 0.8 * shots):\n",
        "    print(\"The chosen function is constant.\")\n",
        "else:\n",
        "    print(\"The chosen function is not constant.\")"
      ],
      "execution_count": 62,
      "outputs": [
        {
          "output_type": "stream",
          "text": [
            "The chosen function is constant.\n"
          ],
          "name": "stdout"
        }
      ]
    },
    {
      "cell_type": "code",
      "metadata": {
        "id": "3rsZwpNaX6WH",
        "colab_type": "code",
        "colab": {}
      },
      "source": [
        ""
      ],
      "execution_count": 0,
      "outputs": []
    }
  ]
}