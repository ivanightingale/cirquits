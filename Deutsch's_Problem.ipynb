{
  "nbformat": 4,
  "nbformat_minor": 0,
  "metadata": {
    "colab": {
      "name": "Deutsch's Problem.ipynb",
      "provenance": [],
      "collapsed_sections": [],
      "include_colab_link": true
    },
    "kernelspec": {
      "name": "python3",
      "display_name": "Python 3"
    }
  },
  "cells": [
    {
      "cell_type": "markdown",
      "metadata": {
        "id": "view-in-github",
        "colab_type": "text"
      },
      "source": [
        "<a href=\"https://colab.research.google.com/github/ivanightingale/cirquits/blob/master/Deutsch's_Problem.ipynb\" target=\"_parent\"><img src=\"https://colab.research.google.com/assets/colab-badge.svg\" alt=\"Open In Colab\"/></a>"
      ]
    },
    {
      "cell_type": "code",
      "metadata": {
        "id": "SIsaCGGva-Oi",
        "colab_type": "code",
        "colab": {
          "base_uri": "https://localhost:8080/",
          "height": 374
        },
        "outputId": "d3cb6002-230e-446f-fc2c-a2ef45c0452e"
      },
      "source": [
        "!pip install -qq qiskit"
      ],
      "execution_count": null,
      "outputs": [
        {
          "output_type": "stream",
          "text": [
            "\u001b[K     |████████████████████████████████| 1.6MB 2.7MB/s \n",
            "\u001b[K     |████████████████████████████████| 21.6MB 37.0MB/s \n",
            "\u001b[K     |████████████████████████████████| 92kB 25.0MB/s \n",
            "\u001b[K     |████████████████████████████████| 102kB 12.0MB/s \n",
            "\u001b[K     |████████████████████████████████| 983kB 44.4MB/s \n",
            "\u001b[K     |████████████████████████████████| 51kB 19.0MB/s \n",
            "\u001b[K     |████████████████████████████████| 51kB 18.5MB/s \n",
            "\u001b[K     |████████████████████████████████| 5.3MB 101kB/s \n",
            "\u001b[K     |████████████████████████████████| 71kB 22.4MB/s \n",
            "\u001b[K     |████████████████████████████████| 21.5MB 34.9MB/s \n",
            "\u001b[K     |████████████████████████████████| 532kB 41.0MB/s \n",
            "\u001b[K     |████████████████████████████████| 2.3MB 37.4MB/s \n",
            "\u001b[K     |████████████████████████████████| 61kB 20.1MB/s \n",
            "\u001b[K     |████████████████████████████████| 61kB 19.6MB/s \n",
            "\u001b[K     |████████████████████████████████| 102kB 26.1MB/s \n",
            "\u001b[?25h  Building wheel for qiskit (setup.py) ... \u001b[?25l\u001b[?25hdone\n",
            "  Building wheel for docplex (setup.py) ... \u001b[?25l\u001b[?25hdone\n",
            "  Building wheel for dlx (setup.py) ... \u001b[?25l\u001b[?25hdone\n",
            "  Building wheel for inflection (setup.py) ... \u001b[?25l\u001b[?25hdone\n",
            "  Building wheel for docloud (setup.py) ... \u001b[?25l\u001b[?25hdone\n",
            "\u001b[31mERROR: datascience 0.10.6 has requirement folium==0.2.1, but you'll have folium 0.8.3 which is incompatible.\u001b[0m\n"
          ],
          "name": "stdout"
        }
      ]
    },
    {
      "cell_type": "code",
      "metadata": {
        "id": "tK-B7Ai2cBLo",
        "colab_type": "code",
        "colab": {}
      },
      "source": [
        "from qiskit import *\n",
        "from qiskit.visualization import plot_histogram\n",
        "\n",
        "%matplotlib inline"
      ],
      "execution_count": null,
      "outputs": []
    },
    {
      "cell_type": "code",
      "metadata": {
        "id": "hlWgjxzAdJOc",
        "colab_type": "code",
        "colab": {
          "base_uri": "https://localhost:8080/",
          "height": 136
        },
        "outputId": "ed4bea73-b80e-48f9-f257-aeee611a44b9"
      },
      "source": [
        "qr = QuantumRegister(2, \"q\")\n",
        "cr = ClassicalRegister(1)\n",
        "\n",
        "circuit = QuantumCircuit(qr, cr)\n",
        "circuit.x(qr[1])\n",
        "circuit.h(qr)\n",
        "circuit.barrier()\n",
        "\n",
        "option = int(input(\"\"\"Please choose a function mapping from {0,1} to {0,1}. The quantum circuit will decide if it is constant ([1] or [2]) or not ([3] or [4]) in one query.\n",
        "                [1] f(x)=0\n",
        "                [2] f(x)=1\n",
        "                [3] f(x)=x\n",
        "                [4] f(x)=~x\n",
        "                \"\"\"))\n",
        "\n",
        "if option == 2:\n",
        "    circuit.x(qr[1])\n",
        "elif option == 3:\n",
        "    circuit.cx(qr[0], qr[1])\n",
        "elif option == 4:\n",
        "    circuit.x(qr[0])\n",
        "    circuit.cx(qr[0], qr[1])\n",
        "    circuit.x(qr[0])\n",
        "\n",
        "circuit.barrier()\n",
        "circuit.h(qr[0])\n",
        "circuit.measure(qr[0], cr)"
      ],
      "execution_count": null,
      "outputs": [
        {
          "output_type": "stream",
          "text": [
            "Please choose a function mapping from {0,1} to {0,1}. The quantum circuit will decide if it is constant ([1] or [2]) or not ([3] or [4]) in one query.\n",
            "                [1] f(x)=0\n",
            "                [2] f(x)=1\n",
            "                [3] f(x)=x\n",
            "                [4] f(x)=~x\n",
            "                4\n"
          ],
          "name": "stdout"
        },
        {
          "output_type": "execute_result",
          "data": {
            "text/plain": [
              "<qiskit.circuit.instructionset.InstructionSet at 0x7f30d96faf28>"
            ]
          },
          "metadata": {
            "tags": []
          },
          "execution_count": 6
        }
      ]
    },
    {
      "cell_type": "code",
      "metadata": {
        "id": "PztsgXA9O3lK",
        "colab_type": "code",
        "colab": {
          "base_uri": "https://localhost:8080/",
          "height": 185
        },
        "outputId": "6f463016-7cc7-4fcb-f159-a822b5453dc3"
      },
      "source": [
        "circuit.draw(output=\"mpl\")"
      ],
      "execution_count": null,
      "outputs": [
        {
          "output_type": "execute_result",
          "data": {
            "image/png": "[encoded data removed]",
            "text/plain": [
              "<Figure size 698.32x204.68 with 1 Axes>"
            ]
          },
          "metadata": {
            "tags": []
          },
          "execution_count": 7
        }
      ]
    },
    {
      "cell_type": "code",
      "metadata": {
        "id": "qH_xhjk4O5hn",
        "colab_type": "code",
        "colab": {}
      },
      "source": [
        "simulator = Aer.get_backend('qasm_simulator')\n",
        "job = execute(circuit, simulator, shots=100)\n",
        "result = job.result()\n",
        "counts = result.get_counts(circuit)"
      ],
      "execution_count": null,
      "outputs": []
    },
    {
      "cell_type": "code",
      "metadata": {
        "id": "g7gdDuLGXfQn",
        "colab_type": "code",
        "colab": {
          "base_uri": "https://localhost:8080/",
          "height": 326
        },
        "outputId": "1916ef44-c7b6-4b83-8369-1f1f46c63bab"
      },
      "source": [
        "plot_histogram(counts)"
      ],
      "execution_count": null,
      "outputs": [
        {
          "output_type": "execute_result",
          "data": {
            "image/png": "[encoded data removed]",
            "text/plain": [
              "<Figure size 504x360 with 1 Axes>"
            ]
          },
          "metadata": {
            "tags": []
          },
          "execution_count": 9
        }
      ]
    },
    {
      "cell_type": "code",
      "metadata": {
        "id": "9ZiyTtFFXu1Y",
        "colab_type": "code",
        "colab": {
          "base_uri": "https://localhost:8080/",
          "height": 34
        },
        "outputId": "3dbb3003-b668-4e19-e715-ba7476fc11ba"
      },
      "source": [
        "if(counts.get('0') is not None and counts.get(1) is not None and counts.get('0') > counts.get('1')):\n",
        "    print(\"The chosen function is constant.\")\n",
        "else:\n",
        "    print(\"The chosen function is not constant.\")"
      ],
      "execution_count": null,
      "outputs": [
        {
          "output_type": "stream",
          "text": [
            "The chosen function is not constant.\n"
          ],
          "name": "stdout"
        }
      ]
    }
  ]
}