{
  "nbformat": 4,
  "nbformat_minor": 0,
  "metadata": {
    "colab": {
      "name": "Deutsch's Problem.ipynb",
      "version": "0.3.2",
      "provenance": [],
      "collapsed_sections": []
    },
    "kernelspec": {
      "name": "python3",
      "display_name": "Python 3"
    }
  },
  "cells": [
    {
      "cell_type": "code",
      "metadata": {
        "id": "SIsaCGGva-Oi",
        "colab_type": "code",
        "outputId": "c39e74ca-f579-408a-be25-8581e20295b2",
        "colab": {
          "base_uri": "https://localhost:8080/",
          "height": 420
        }
      },
      "source": [
        "!pip install -qq qiskit"
      ],
      "execution_count": 6,
      "outputs": [
        {
          "output_type": "stream",
          "text": [
            "\u001b[K     |████████████████████████████████| 1.5MB 2.8MB/s \n",
            "\u001b[K     |████████████████████████████████| 21.3MB 1.1MB/s \n",
            "\u001b[K     |████████████████████████████████| 92kB 24.5MB/s \n",
            "\u001b[K     |████████████████████████████████| 81kB 23.5MB/s \n",
            "\u001b[K     |████████████████████████████████| 409kB 44.7MB/s \n",
            "\u001b[K     |████████████████████████████████| 522kB 46.4MB/s \n",
            "\u001b[K     |████████████████████████████████| 51kB 14.9MB/s \n",
            "\u001b[K     |████████████████████████████████| 51kB 19.9MB/s \n",
            "\u001b[K     |████████████████████████████████| 5.3MB 38.3MB/s \n",
            "\u001b[K     |████████████████████████████████| 51kB 19.4MB/s \n",
            "\u001b[K     |████████████████████████████████| 71kB 25.1MB/s \n",
            "\u001b[K     |████████████████████████████████| 532kB 43.5MB/s \n",
            "\u001b[K     |████████████████████████████████| 21.5MB 54.6MB/s \n",
            "\u001b[K     |████████████████████████████████| 2.3MB 30.8MB/s \n",
            "\u001b[K     |████████████████████████████████| 61kB 18.6MB/s \n",
            "\u001b[K     |████████████████████████████████| 61kB 20.5MB/s \n",
            "\u001b[K     |████████████████████████████████| 102kB 23.3MB/s \n",
            "\u001b[?25h  Building wheel for qiskit (setup.py) ... \u001b[?25l\u001b[?25hdone\n",
            "  Building wheel for pylatexenc (setup.py) ... \u001b[?25l\u001b[?25hdone\n",
            "  Building wheel for docplex (setup.py) ... \u001b[?25l\u001b[?25hdone\n",
            "  Building wheel for dlx (setup.py) ... \u001b[?25l\u001b[?25hdone\n",
            "  Building wheel for docloud (setup.py) ... \u001b[?25l\u001b[?25hdone\n",
            "  Building wheel for inflection (setup.py) ... \u001b[?25l\u001b[?25hdone\n",
            "\u001b[31mERROR: datascience 0.10.6 has requirement folium==0.2.1, but you'll have folium 0.8.3 which is incompatible.\u001b[0m\n"
          ],
          "name": "stdout"
        }
      ]
    },
    {
      "cell_type": "code",
      "metadata": {
        "id": "tK-B7Ai2cBLo",
        "colab_type": "code",
        "colab": {}
      },
      "source": [
        "from qiskit import *\n",
        "from qiskit.visualization import plot_histogram"
      ],
      "execution_count": 0,
      "outputs": []
    },
    {
      "cell_type": "code",
      "metadata": {
        "id": "HiJJ9LX2UqaQ",
        "colab_type": "code",
        "colab": {}
      },
      "source": [
        "%matplotlib inline"
      ],
      "execution_count": 0,
      "outputs": []
    },
    {
      "cell_type": "code",
      "metadata": {
        "id": "hlWgjxzAdJOc",
        "colab_type": "code",
        "outputId": "c7eb3bb4-6279-4cc7-f378-8f03f0b0ec3a",
        "colab": {
          "base_uri": "https://localhost:8080/",
          "height": 134
        }
      },
      "source": [
        "qr = QuantumRegister(2, \"q\")\n",
        "cr = ClassicalRegister(1)\n",
        "\n",
        "circuit = QuantumCircuit(qr, cr)\n",
        "circuit.x(qr[1])\n",
        "circuit.h(qr)\n",
        "circuit.barrier()\n",
        "\n",
        "option = int(input(\"\"\"Please choose a function mapping from {0,1} to {0,1}. The quantum circuit will decide if it is constant ([1] or [2]) or not ([3] or [4]) in one query.\n",
        "                [1] f(x)=0\n",
        "                [2] f(x)=1\n",
        "                [3] f(x)=x\n",
        "                [4] f(x)=~x\\n\"\"\"))\n",
        "\n",
        "if option == 2:\n",
        "    circuit.x(qr[1])\n",
        "elif option == 3:\n",
        "    circuit.cx(qr[0], qr[1])\n",
        "elif option == 4:\n",
        "    circuit.x(qr[0])\n",
        "    circuit.cx(qr[0], qr[1])\n",
        "    circuit.x(qr[0])\n",
        "\n",
        "circuit.barrier()\n",
        "circuit.h(qr[0])\n",
        "circuit.measure(qr[0], cr)"
      ],
      "execution_count": 14,
      "outputs": [
        {
          "output_type": "stream",
          "text": [
            "Please choose a function mapping from {0,1} to {0,1}. The quantum circuit will decide if it is constant ([1] or [2]) or not ([3] or [4]) in one query.\n",
            "                [1] f(x)=0\n",
            "                [2] f(x)=1\n",
            "                [3] f(x)=x\n",
            "                [4] f(x)=~x\n",
            "4\n"
          ],
          "name": "stdout"
        },
        {
          "output_type": "execute_result",
          "data": {
            "text/plain": [
              "<qiskit.circuit.instructionset.InstructionSet at 0x7fd9872827f0>"
            ]
          },
          "metadata": {
            "tags": []
          },
          "execution_count": 14
        }
      ]
    },
    {
      "cell_type": "code",
      "metadata": {
        "id": "PztsgXA9O3lK",
        "colab_type": "code",
        "outputId": "77f09aa6-2729-4c5c-a407-fa656c0617e7",
        "colab": {
          "base_uri": "https://localhost:8080/",
          "height": 181
        }
      },
      "source": [
        "circuit.draw(output=\"mpl\")"
      ],
      "execution_count": 15,
      "outputs": [
        {
          "output_type": "execute_result",
          "data": {
            "image/png": "[encoded data removed]",
            "text/plain": [
              "<Figure size 782.6x198.66 with 1 Axes>"
            ]
          },
          "metadata": {
            "tags": []
          },
          "execution_count": 15
        }
      ]
    },
    {
      "cell_type": "code",
      "metadata": {
        "id": "qH_xhjk4O5hn",
        "colab_type": "code",
        "colab": {}
      },
      "source": [
        "simulator = Aer.get_backend('qasm_simulator')\n",
        "shots = 100\n",
        "job = execute(circuit, simulator, shots=shots)\n",
        "result = job.result()\n",
        "counts = result.get_counts(circuit)"
      ],
      "execution_count": 0,
      "outputs": []
    },
    {
      "cell_type": "code",
      "metadata": {
        "id": "g7gdDuLGXfQn",
        "colab_type": "code",
        "outputId": "0fbe9a8d-8120-4c77-fe9d-05632c46bf07",
        "colab": {
          "base_uri": "https://localhost:8080/",
          "height": 326
        }
      },
      "source": [
        "plot_histogram(counts)"
      ],
      "execution_count": 17,
      "outputs": [
        {
          "output_type": "execute_result",
          "data": {
            "image/png": "[encoded data removed]",
            "text/plain": [
              "<Figure size 504x360 with 1 Axes>"
            ]
          },
          "metadata": {
            "tags": []
          },
          "execution_count": 17
        }
      ]
    },
    {
      "cell_type": "code",
      "metadata": {
        "id": "9ZiyTtFFXu1Y",
        "colab_type": "code",
        "outputId": "465614b4-d42c-4a61-d320-c46fa897f1e7",
        "colab": {
          "base_uri": "https://localhost:8080/",
          "height": 34
        }
      },
      "source": [
        "if(counts.get('0') is not None and counts.get('0') > 0.8 * shots):\n",
        "    print(\"The chosen function is constant.\")\n",
        "else:\n",
        "    print(\"The chosen function is not constant.\")"
      ],
      "execution_count": 18,
      "outputs": [
        {
          "output_type": "stream",
          "text": [
            "The chosen function is not constant.\n"
          ],
          "name": "stdout"
        }
      ]
    }
  ]
}